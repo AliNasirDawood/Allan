{
 "cells": [
  {
   "cell_type": "code",
   "execution_count": 1,
   "metadata": {},
   "outputs": [],
   "source": [
    "from googletrans import Translator"
   ]
  },
  {
   "cell_type": "code",
   "execution_count": 2,
   "metadata": {},
   "outputs": [],
   "source": [
    "translator = Translator()"
   ]
  },
  {
   "cell_type": "code",
   "execution_count": null,
   "metadata": {},
   "outputs": [],
   "source": [
    "trans = translator.translate('''面对抗议者与安全部队之间持续不断的冲突，智利总统塞巴斯蒂安·皮涅拉对于主办两大国际峰会的态度发生了360度大转弯，原定于11月的亚太经合组织论坛（APEC）和12月的联合国气候变化框架公约第二十五次缔约方大会（COP25）均被迫取消。\n",
    "\n",
    "目前，最有可能接手主办COP25的城市是马德里，西班牙政府在周四表达了这一意向，并有可能在下周一做出正式决定。\n",
    "\n",
    "上周皮涅拉还在表示APEC和COP25将如期举行。自三周前首都圣地亚哥地铁票价上调4％引发抗议活动以来，政府面临着巨大的压力。\n",
    "\n",
    "许多智利民众认为，此次涨价是身为亿万富翁的总统进一步偏向私营企业的举动，但民众的生活水平却停滞不前，不平等状况加剧。\n",
    "\n",
    "“作为所有智利人的总统，我必须一直把他们的问题、利益…需求、意愿和期望摆在首位。”皮涅拉在周三表示， “这对智利来说是一个痛苦的局面，但是政府决定放弃举办APEC峰会……和COP25气候大会。”\n",
    "\n",
    "据报道，自抗议活动以来至少已有18人死亡。上周政府宣布进入紧急状态和实施宵禁，军队在数个城市巡逻试图平息动乱。\n",
    "\n",
    "原计划将有约3万名代表出席COP25气候大会，但圣地亚哥地铁系统的六条线路在示威抗议活动中遭到了严重损坏，只有三条还在正常运行，且只有少数车站仍旧开放。政府表示，要完全恢复所有线路的正常运营恐怕需要数月的时间。\n",
    "\n",
    "圣地亚哥天主教大学国际关系教授妮可·珍妮告诉“中拉对话”，政府在宣布这一决定之前就已面临着“巨大的”承办挑战。''')"
   ]
  },
  {
   "cell_type": "code",
   "execution_count": 5,
   "metadata": {},
   "outputs": [
    {
     "name": "stdout",
     "output_type": "stream",
     "text": [
      "Translated(src=zh-CN, dest=en, text=The face of continued between protesters and security forces in the conflict, Chilean President Sebastian Pinera for two major international summit hosted by the attitude of a 360-degree turn, originally scheduled for November APEC Forum ( APEC) and the twenty-fifth General Assembly in December of the Parties to the United Nations framework Convention on climate change (COP25) were forced to cancel.\n",
      "\n",
      "Currently, the most likely to take over hosting COP25 city of Madrid, the Spanish government on Thursday expressed this intention, and it is possible to make a formal decision next Monday.\n",
      "\n",
      "Last week, Piniella also expressed APEC and COP25 will be held as scheduled. Since three weeks ago, the capital, Santiago subway fare increase of 4% triggered the protests, the government is facing tremendous pressure.\n",
      "\n",
      "Many Chileans believe that this increase is billionaire president's move further toward the private sector, but the people's living standards have stagnated and increased inequality.\n",
      "\n",
      "\"As president of all Chileans, I have been to their problems, interests ... needs, wishes and expectations in the first place.\" Piniella said on Wednesday, \"This is a painful situation for Chile, but the government decided ...... and give up organizing the APEC summit COP25 climate Conference. \"\n",
      "\n",
      "It is reported that since the protests At least 18 people were killed. Last week the government announced a state of emergency and curfew, army patrols in several cities trying to quell the unrest.\n",
      "\n",
      "The original plan will be about 30,000 attended COP25 climate conference, but six lines Santiago Metro system was in protests in serious damage, only three still in normal operation, and only a few stations still open. The Government said that to fully restore the normal operation of all lines will probably take a few months time\n",
      "\n",
      "International relations professor at the Catholic University of San Diego Nicole Jane told the \"pull in dialogue,\" the government before announcing the decision had been facing a \"huge\" challenge to the contractor., pronunciation=None, extra_data=\"{'translat...\")\n"
     ]
    }
   ],
   "source": [
    "print(trans)"
   ]
  },
  {
   "cell_type": "markdown",
   "metadata": {},
   "source": [
    "# Both english and chinese translation\n",
    "\n"
   ]
  },
  {
   "cell_type": "code",
   "execution_count": 14,
   "metadata": {},
   "outputs": [],
   "source": [
    "trans1 = ['''面对抗议者与安全部队之间持续不断的冲突，智利总统塞巴斯蒂安·皮涅拉对于主办两大国际峰会的态度发生了360度大转弯，原定于11月的亚太经合组织论坛（APEC）和12月的联合国气候变化框架公约第二十五次缔约方大会（COP25）均被迫取消。\n",
    "\n",
    "目前，最有可能接手主办COP25的城市是马德里，西班牙政府在周四表达了这一意向，并有可能在下周一做出正式决定。\n",
    "\n",
    "上周皮涅拉还在表示APEC和COP25将如期举行。自三周前首都圣地亚哥地铁票价上调4％引发抗议活动以来，政府面临着巨大的压力。\n",
    "\n",
    "许多智利民众认为，此次涨价是身为亿万富翁的总统进一步偏向私营企业的举动，但民众的生活水平却停滞不前，不平等状况加剧。\n",
    "\n",
    "“作为所有智利人的总统，我必须一直把他们的问题、利益…需求、意愿和期望摆在首位。”皮涅拉在周三表示， “这对智利来说是一个痛苦的局面，但是政府决定放弃举办APEC峰会……和COP25气候大会。”\n",
    "\n",
    "据报道，自抗议活动以来至少已有18人死亡。上周政府宣布进入紧急状态和实施宵禁，军队在数个城市巡逻试图平息动乱。\n",
    "\n",
    "原计划将有约3万名代表出席COP25气候大会，但圣地亚哥地铁系统的六条线路在示威抗议活动中遭到了严重损坏，只有三条还在正常运行，且只有少数车站仍旧开放。政府表示，要完全恢复所有线路的正常运营恐怕需要数月的时间。\n",
    "\n",
    "圣地亚哥天主教大学国际关系教授妮可·珍妮告诉“中拉对话”，政府在宣布这一决定之前就已面临着“巨大的”承办挑战。''']"
   ]
  },
  {
   "cell_type": "code",
   "execution_count": 15,
   "metadata": {},
   "outputs": [
    {
     "name": "stdout",
     "output_type": "stream",
     "text": [
      "['面对抗议者与安全部队之间持续不断的冲突，智利总统塞巴斯蒂安·皮涅拉对于主办两大国际峰会的态度发生了360度大转弯，原定于11月的亚太经合组织论坛（APEC）和12月的联合国气候变化框架公约第二十五次缔约方大会（COP25）均被迫取消。\\n\\n目前，最有可能接手主办COP25的城市是马德里，西班牙政府在周四表达了这一意向，并有可能在下周一做出正式决定。\\n\\n上周皮涅拉还在表示APEC和COP25将如期举行。自三周前首都圣地亚哥地铁票价上调4％引发抗议活动以来，政府面临着巨大的压力。\\n\\n许多智利民众认为，此次涨价是身为亿万富翁的总统进一步偏向私营企业的举动，但民众的生活水平却停滞不前，不平等状况加剧。\\n\\n“作为所有智利人的总统，我必须一直把他们的问题、利益…需求、意愿和期望摆在首位。”皮涅拉在周三表示， “这对智利来说是一个痛苦的局面，但是政府决定放弃举办APEC峰会……和COP25气候大会。”\\n\\n据报道，自抗议活动以来至少已有18人死亡。上周政府宣布进入紧急状态和实施宵禁，军队在数个城市巡逻试图平息动乱。\\n\\n原计划将有约3万名代表出席COP25气候大会，但圣地亚哥地铁系统的六条线路在示威抗议活动中遭到了严重损坏，只有三条还在正常运行，且只有少数车站仍旧开放。政府表示，要完全恢复所有线路的正常运营恐怕需要数月的时间。\\n\\n圣地亚哥天主教大学国际关系教授妮可·珍妮告诉“中拉对话”，政府在宣布这一决定之前就已面临着“巨大的”承办挑战。']\n"
     ]
    }
   ],
   "source": [
    "print(trans1)"
   ]
  },
  {
   "cell_type": "code",
   "execution_count": 16,
   "metadata": {},
   "outputs": [],
   "source": [
    "translations = translator.translate(trans1)"
   ]
  },
  {
   "cell_type": "code",
   "execution_count": 17,
   "metadata": {},
   "outputs": [
    {
     "name": "stdout",
     "output_type": "stream",
     "text": [
      "面对抗议者与安全部队之间持续不断的冲突，智利总统塞巴斯蒂安·皮涅拉对于主办两大国际峰会的态度发生了360度大转弯，原定于11月的亚太经合组织论坛（APEC）和12月的联合国气候变化框架公约第二十五次缔约方大会（COP25）均被迫取消。\n",
      "\n",
      "目前，最有可能接手主办COP25的城市是马德里，西班牙政府在周四表达了这一意向，并有可能在下周一做出正式决定。\n",
      "\n",
      "上周皮涅拉还在表示APEC和COP25将如期举行。自三周前首都圣地亚哥地铁票价上调4％引发抗议活动以来，政府面临着巨大的压力。\n",
      "\n",
      "许多智利民众认为，此次涨价是身为亿万富翁的总统进一步偏向私营企业的举动，但民众的生活水平却停滞不前，不平等状况加剧。\n",
      "\n",
      "“作为所有智利人的总统，我必须一直把他们的问题、利益…需求、意愿和期望摆在首位。”皮涅拉在周三表示， “这对智利来说是一个痛苦的局面，但是政府决定放弃举办APEC峰会……和COP25气候大会。”\n",
      "\n",
      "据报道，自抗议活动以来至少已有18人死亡。上周政府宣布进入紧急状态和实施宵禁，军队在数个城市巡逻试图平息动乱。\n",
      "\n",
      "原计划将有约3万名代表出席COP25气候大会，但圣地亚哥地铁系统的六条线路在示威抗议活动中遭到了严重损坏，只有三条还在正常运行，且只有少数车站仍旧开放。政府表示，要完全恢复所有线路的正常运营恐怕需要数月的时间。\n",
      "\n",
      "圣地亚哥天主教大学国际关系教授妮可·珍妮告诉“中拉对话”，政府在宣布这一决定之前就已面临着“巨大的”承办挑战。 The face of continued between protesters and security forces in the conflict, Chilean President Sebastian Pinera for two major international summit hosted by the attitude of a 360-degree turn, originally scheduled for November APEC Forum ( APEC) and the twenty-fifth General Assembly in December of the Parties to the United Nations framework Convention on climate change (COP25) were forced to cancel.\n",
      "\n",
      "Currently, the most likely to take over hosting COP25 city of Madrid, the Spanish government on Thursday expressed this intention, and it is possible to make a formal decision next Monday.\n",
      "\n",
      "Last week, Piniella also expressed APEC and COP25 will be held as scheduled. Since three weeks ago, the capital, Santiago subway fare increase of 4% triggered the protests, the government is facing tremendous pressure.\n",
      "\n",
      "Many Chileans believe that this increase is billionaire president's move further toward the private sector, but the people's living standards have stagnated and increased inequality.\n",
      "\n",
      "\"As president of all Chileans, I have been to their problems, interests ... needs, wishes and expectations in the first place.\" Piniella said on Wednesday, \"This is a painful situation for Chile, but the government decided ...... and give up organizing the APEC summit COP25 climate Conference. \"\n",
      "\n",
      "It is reported that since the protests At least 18 people were killed. Last week the government announced a state of emergency and curfew, army patrols in several cities trying to quell the unrest.\n",
      "\n",
      "The original plan will be about 30,000 attended COP25 climate conference, but six lines Santiago Metro system was in protests in serious damage, only three still in normal operation, and only a few stations still open. The Government said that to fully restore the normal operation of all lines will probably take several months.\n",
      "\n",
      "International relations professor at the Catholic University of San Diego Nicole Jane told the \"pull in dialogue,\" the government before announcing the decision had been facing a \"huge\" challenge to the contractor.\n"
     ]
    }
   ],
   "source": [
    " for translation in translations:\n",
    "         print(translation.origin, translation.text)"
   ]
  },
  {
   "cell_type": "markdown",
   "metadata": {},
   "source": [
    "# CONVERT URDU TO ENGLISH"
   ]
  },
  {
   "cell_type": "code",
   "execution_count": 21,
   "metadata": {},
   "outputs": [
    {
     "name": "stdout",
     "output_type": "stream",
     "text": [
      "Enter what you want to transalalte \n",
      "اقوام متحدہ کے سیکریٹری جنرل انتونیو گوتیرس کا کہنا ہے کہ جب صحافیوں کو نشانہ بنایا جاتا ہے تو پورے معاشرے کو اس کی قیمت ادا کرنی پڑتی ہے۔  یہ بات انہوں نے عالمی ادارے کی جانب سے صحافیوں کے خلاف جرائم کو روکنے کا دن منائے جانے کے موقع پر کہی۔  ڈان اخبار کی رپورٹ کے مطابق اقوام متحدہ کے سربراہ کا کہنا تھا کہ 'صحافی اگر باحفاظت اپنا کام نہیں کرسکیں گے تو دنیا کو الجھن اور غلط معلومات کا سامنا کرنا پڑے گا، صحافیوں کی حفاظت کرنے میں ناکامی سے ہماری معلومات رکھنے اور فیصلے کرنے کی صلاحیت بھی متاثر ہوگی'۔  مزید پڑھیں: پاکستان میں 5 برس کے دوران 33 صحافی قتل کردیے گئے، رپورٹ  واشنگٹن میں امریکی اسٹیٹ ڈپارٹمنٹ کے ترجمان مورگن اورتاگس کا کہنا تھا کہ 'دنیا کے کئی ممالک میں صحافیوں کو ان کی پیشہ ورانہ خدمات سرانجام دینے پر قتل، تشدد، جیل اور ہراساں کیے جانے کا سامنا ہے'۔  ان کا کہنا تھا کہ 'وہ کرپٹ حکمرانوں کے ظلم کو سامنے لانے، دہشت گردوں اور جرائم پیشہ تنظیموں کے خلاف کام کرنے، اقلیتوں کی آواز بننے اور غلط معلومات کا جواب دینے کی وجہ سے سخت مشکلات کا سامنا کرتے ہیں'۔  اقوام متحدہ میں فرانس نے صحافیوں کے خلاف جرم کرنے والوں کو انصاف کے کٹہرے میں لانے اور ریاستوں کو صحافیوں کے کام کے لیے محفوظ ماحول فراہم کرنے کے لیے کام کرنے کا کہا۔  پیرس کی میڈیا کے حقوق کی تنظیم رپورٹرز ودآؤٹ بارڈرز کا کہنا تھا کہ 'عوام کو معلومات فراہم کرنے پر رواں سال سب سے زائد صحافیوں کا قتل کیا جاچکا ہے'۔  یہ بھی پڑھیں: آزادی صحافت اور پاکستانی خواتین صحافی  اقوام متحدہ کے تعلیمی، سائنٹفک اور ثقافتی تنظیم یونیسکو نے صحافیوں کو درپیش خدشات پر تشویش کا اظہار کرتے کہا کہ 2006 سے 2018 کے درمیان ایک ہزار 100 میڈیا اہلکاروں کے قتل کے 90 فیصد ذمہ داران پر فرد جرم عائد نہیں کی گئی۔  حملوں میں شدت، نئے دفاع، (انٹینسیفائڈ اٹیکس، نیو ڈیفنسز) کے نام سے جاری رپورٹ میں نشاندہی کی گئی کہ صحافیوں کے قتل کے واقعات میں گزشتہ 5 سالوں میں (2014 سے 2018) کے درمیان 18 فیصد اضافہ ہوا ہے۔  اعداد و شمار کے مطابق صحافیوں کے لیے سب سے خطرناک ملک خلیجی ممالک ہیں جہاں ہر 3 میں سے ایک صحافی کا قتل ہوا۔  اس کے بعد لاطینی امریکا جہاں 26 فیصد اور ایشیا پیسیفک جہاں 24 فیصد قتل ہوئے، سب سے خطرناک قرار پائے۔  اقوام متحدہ کی رپورٹ میں نشاندہی کی گئی کہ صحافیوں کو زیادہ تر سیاست، جرائم اور کرپشن پر رپورٹ کرنے پر قتل کیا جاتا ہے اور یہ یونیسکو کی تحقیق میں بھی سامنے آیا تھا جس میں کہا گیا تھا کہ گزشتہ دو سالوں میں آدھے سے زیادہ صحافی غیر متضاد علاقوں میں قتل ہوئے۔\n",
      "\n",
      "اقوام متحدہ کے سیکریٹری جنرل انتونیو گوتیرس کا کہنا ہے کہ جب صحافیوں کو نشانہ بنایا جاتا ہے تو پورے معاشرے کو اس کی قیمت ادا کرنی پڑتی ہے۔  یہ بات انہوں نے عالمی ادارے کی جانب سے صحافیوں کے خلاف جرائم کو روکنے کا دن منائے جانے کے موقع پر کہی۔  ڈان اخبار کی رپورٹ کے مطابق اقوام متحدہ کے سربراہ کا کہنا تھا کہ 'صحافی اگر باحفاظت اپنا کام نہیں کرسکیں گے تو دنیا کو الجھن اور غلط معلومات کا سامنا کرنا پڑے گا، صحافیوں کی حفاظت کرنے میں ناکامی سے ہماری معلومات رکھنے اور فیصلے کرنے کی صلاحیت بھی متاثر ہوگی'۔  مزید پڑھیں: پاکستان میں 5 برس کے دوران 33 صحافی قتل کردیے گئے، رپورٹ  واشنگٹن میں امریکی اسٹیٹ ڈپارٹمنٹ کے ترجمان مورگن اورتاگس کا کہنا تھا کہ 'دنیا کے کئی ممالک میں صحافیوں کو ان کی پیشہ ورانہ خدمات سرانجام دینے پر قتل، تشدد، جیل اور ہراساں کیے جانے کا سامنا ہے'۔  ان کا کہنا تھا کہ 'وہ کرپٹ حکمرانوں کے ظلم کو سامنے لانے، دہشت گردوں اور جرائم پیشہ تنظیموں کے خلاف کام کرنے، اقلیتوں کی آواز بننے اور غلط معلومات کا جواب دینے کی وجہ سے سخت مشکلات کا سامنا کرتے ہیں'۔  اقوام متحدہ میں فرانس نے صحافیوں کے خلاف جرم کرنے والوں کو انصاف کے کٹہرے میں لانے اور ریاستوں کو صحافیوں کے کام کے لیے محفوظ ماحول فراہم کرنے کے لیے کام کرنے کا کہا۔  پیرس کی میڈیا کے حقوق کی تنظیم رپورٹرز ودآؤٹ بارڈرز کا کہنا تھا کہ 'عوام کو معلومات فراہم کرنے پر رواں سال سب سے زائد صحافیوں کا قتل کیا جاچکا ہے'۔  یہ بھی پڑھیں: آزادی صحافت اور پاکستانی خواتین صحافی  اقوام متحدہ کے تعلیمی، سائنٹفک اور ثقافتی تنظیم یونیسکو نے صحافیوں کو درپیش خدشات پر تشویش کا اظہار کرتے کہا کہ 2006 سے 2018 کے درمیان ایک ہزار 100 میڈیا اہلکاروں کے قتل کے 90 فیصد ذمہ داران پر فرد جرم عائد نہیں کی گئی۔  حملوں میں شدت، نئے دفاع، (انٹینسیفائڈ اٹیکس، نیو ڈیفنسز) کے نام سے جاری رپورٹ میں نشاندہی کی گئی کہ صحافیوں کے قتل کے واقعات میں گزشتہ 5 سالوں میں (2014 سے 2018) کے درمیان 18 فیصد اضافہ ہوا ہے۔  اعداد و شمار کے مطابق صحافیوں کے لیے سب سے خطرناک ملک خلیجی ممالک ہیں جہاں ہر 3 میں سے ایک صحافی کا قتل ہوا۔  اس کے بعد لاطینی امریکا جہاں 26 فیصد اور ایشیا پیسیفک جہاں 24 فیصد قتل ہوئے، سب سے خطرناک قرار پائے۔  اقوام متحدہ کی رپورٹ میں نشاندہی کی گئی کہ صحافیوں کو زیادہ تر سیاست، جرائم اور کرپشن پر رپورٹ کرنے پر قتل کیا جاتا ہے اور یہ یونیسکو کی تحقیق میں بھی سامنے آیا تھا جس میں کہا گیا تھا کہ گزشتہ دو سالوں میں آدھے سے زیادہ صحافی غیر متضاد علاقوں میں قتل ہوئے۔ So says Antonio Guterres, UN Secretary-General, when journalists are targeted to the whole society to pay the price. He called on the international community from celebrating the day to prevent crimes against journalists. Dawn newspaper said the UN chief, journalists will then be able to safely do their job, then the world will have to face the confusion and misinformation, to our knowledge, failure to protect journalists and to make decisions capacity will also be affected. Read more: been 33 journalists killed in 5 years in Pakistan, reported spokesman for the US State Department in Washington, Morgan aurtags told journalists killed perform their professional services in many countries of the world, violence, prison and faces harassment. They argued that they face difficulties because of the oppression of corrupt politicians, to work against terrorists and criminal organizations, responding to the voice of minorities and misinformation. France asked the United Nations to work to provide a safe environment to bring to justice those who committed crimes against the journalists and reporters working states. Paris media rights organization Reporters Without Borders said \"people have been killed over the last year to provide information to journalists. Also read: freedom of the press and Pakistani women journalists for 90 percent of the UN Educational, Scientific and Cultural Organization UNESCO said the journalists expressed concern about facing fears that the murder of one thousand 100 media personnel between 2018 and 2006 Leaders who has not been charged. Intensified attacks, new defenses, (antynsyfayd Obama administration, New dyfnsz) were identified in the report issued in the name of the killings of journalists in the past 5 years (2018 to 2014) increased 18%. Statistics showed the most dangerous country in the murder of a journalist every 3 where the Gulf countries for journalists. The Asia-Pacific and Latin America, where 26 percent of the 24 percent, were the most dangerous. UN report pointed out that journalists mostly politics, crime and murder to report on corruption and UNESCO study also said that had emerged that more than half in the last two years, journalist killed in non-conflict areas.\n"
     ]
    }
   ],
   "source": [
    "input_lang = str(input ('Enter what you want to transalalte \\n'))\n",
    "TRANS3 = translator.translate([input_lang])\n",
    "print()\n",
    "for translation in TRANS3:\n",
    "         print(translation.origin, translation.text)"
   ]
  },
  {
   "cell_type": "code",
   "execution_count": null,
   "metadata": {},
   "outputs": [],
   "source": []
  }
 ],
 "metadata": {
  "kernelspec": {
   "display_name": "Python 3",
   "language": "python",
   "name": "python3"
  },
  "language_info": {
   "codemirror_mode": {
    "name": "ipython",
    "version": 3
   },
   "file_extension": ".py",
   "mimetype": "text/x-python",
   "name": "python",
   "nbconvert_exporter": "python",
   "pygments_lexer": "ipython3",
   "version": "3.7.3"
  }
 },
 "nbformat": 4,
 "nbformat_minor": 2
}
